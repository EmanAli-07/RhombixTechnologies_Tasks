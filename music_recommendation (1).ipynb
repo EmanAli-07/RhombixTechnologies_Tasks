{
  "nbformat": 4,
  "nbformat_minor": 0,
  "metadata": {
    "colab": {
      "provenance": []
    },
    "kernelspec": {
      "name": "python3",
      "display_name": "Python 3"
    },
    "language_info": {
      "name": "python"
    }
  },
  "cells": [
    {
      "cell_type": "code",
      "source": [
        "from google.colab import drive\n",
        "drive.mount('/content/drive')"
      ],
      "metadata": {
        "colab": {
          "base_uri": "https://localhost:8080/"
        },
        "id": "ZJYzCj52q4dn",
        "outputId": "7763129e-4e0f-45c0-fabd-2fddfc255223"
      },
      "execution_count": null,
      "outputs": [
        {
          "output_type": "stream",
          "name": "stdout",
          "text": [
            "Mounted at /content/drive\n"
          ]
        }
      ]
    },
    {
      "source": [
        "import pandas as pd\n",
        "\n",
        "file_path = '/content/drive/My Drive/lastfm-dataset-1K/userid-timestamp-artid-artname-traid-traname.tsv'  # Original mounted path from Google Drive\n",
        "try:\n",
        "    df = pd.read_csv(file_path, sep='\\t', header=None, on_bad_lines='skip')  # Skip bad lines\n",
        "except TypeError:\n",
        "    df = pd.read_csv(file_path, sep='\\t', header=None, error_bad_lines=False)  # Skip bad lines\n"
      ],
      "cell_type": "code",
      "metadata": {
        "id": "SZIwBspOrREq"
      },
      "execution_count": null,
      "outputs": []
    },
    {
      "cell_type": "code",
      "source": [
        "df.columns = ['user_id', 'timestamp', 'artist_id', 'artist_name', 'track_id', 'track_name']\n",
        "\n",
        "df['timestamp'] = pd.to_datetime(df['timestamp'])\n",
        "\n",
        "print(\"✅ Dataset loaded:\")\n",
        "print(df.head())\n"
      ],
      "metadata": {
        "colab": {
          "base_uri": "https://localhost:8080/"
        },
        "id": "6HNQNkwPZkkP",
        "outputId": "04d05b01-7aab-4386-e44a-e8e6a2698001"
      },
      "execution_count": null,
      "outputs": [
        {
          "output_type": "stream",
          "name": "stdout",
          "text": [
            "✅ Dataset loaded:\n",
            "       user_id                 timestamp  \\\n",
            "0  user_000001 2009-05-04 23:08:57+00:00   \n",
            "1  user_000001 2009-05-04 13:54:10+00:00   \n",
            "2  user_000001 2009-05-04 13:52:04+00:00   \n",
            "3  user_000001 2009-05-04 13:42:52+00:00   \n",
            "4  user_000001 2009-05-04 13:42:11+00:00   \n",
            "\n",
            "                              artist_id artist_name track_id  \\\n",
            "0  f1b1cf71-bd35-4e99-8624-24a6e15f133a   Deep Dish      NaN   \n",
            "1  a7f7df4a-77d8-4f12-8acd-5c60c93f4de8        坂本龍一      NaN   \n",
            "2  a7f7df4a-77d8-4f12-8acd-5c60c93f4de8        坂本龍一      NaN   \n",
            "3  a7f7df4a-77d8-4f12-8acd-5c60c93f4de8        坂本龍一      NaN   \n",
            "4  a7f7df4a-77d8-4f12-8acd-5c60c93f4de8        坂本龍一      NaN   \n",
            "\n",
            "                                   track_name  \n",
            "0  Fuck Me Im Famous (Pacha Ibiza)-09-28-2007  \n",
            "1           Composition 0919 (Live_2009_4_15)  \n",
            "2                        Mc2 (Live_2009_4_15)  \n",
            "3                     Hibari (Live_2009_4_15)  \n",
            "4                        Mc1 (Live_2009_4_15)  \n"
          ]
        }
      ]
    },
    {
      "cell_type": "code",
      "source": [
        "df = df.sort_values(by=['user_id', 'track_id', 'timestamp'])\n",
        "\n",
        "df['prev_timestamp'] = df.groupby(['user_id', 'track_id'])['timestamp'].shift(1)\n",
        "df['days_since_last_play'] = (df['timestamp'] - df['prev_timestamp']).dt.days\n",
        "\n",
        "df['replayed_within_30_days'] = df['days_since_last_play'].apply(lambda x: 1 if pd.notnull(x) and x <= 30 else 0)\n",
        "\n",
        "df = df.dropna(subset=['days_since_last_play'])\n",
        "\n",
        "print(\"✅ Preprocessing complete. Sample data with label:\")\n",
        "print(df[['user_id', 'track_name', 'timestamp', 'days_since_last_play', 'replayed_within_30_days']].head())\n"
      ],
      "metadata": {
        "colab": {
          "base_uri": "https://localhost:8080/"
        },
        "id": "l1ZwL6lKZfz7",
        "outputId": "d022e42c-19f7-49b4-efde-0b2469570109"
      },
      "execution_count": null,
      "outputs": [
        {
          "output_type": "stream",
          "name": "stdout",
          "text": [
            "✅ Preprocessing complete. Sample data with label:\n",
            "           user_id                        track_name  \\\n",
            "10037  user_000001                   Monday Nightcap   \n",
            "4206   user_000001              Something In The Way   \n",
            "161    user_000001              Something In The Way   \n",
            "39     user_000001              Something In The Way   \n",
            "3856   user_000001  Squeeze Me (Feat. Ben Westbeech)   \n",
            "\n",
            "                      timestamp  days_since_last_play  replayed_within_30_days  \n",
            "10037 2008-04-18 14:44:37+00:00                 163.0                        0  \n",
            "4206  2008-12-30 01:32:41+00:00                 437.0                        0  \n",
            "161   2009-04-30 17:00:27+00:00                 121.0                        0  \n",
            "39    2009-05-02 15:19:46+00:00                   1.0                        1  \n",
            "3856  2009-01-09 01:13:26+00:00                   1.0                        1  \n"
          ]
        }
      ]
    },
    {
      "cell_type": "code",
      "source": [
        "from sklearn.feature_extraction.text import TfidfVectorizer\n",
        "from sklearn.preprocessing import LabelEncoder\n",
        "from sklearn.model_selection import train_test_split\n",
        "from sklearn.ensemble import RandomForestClassifier\n",
        "from sklearn.metrics import classification_report\n"
      ],
      "metadata": {
        "id": "Id-AF_cAkpBt"
      },
      "execution_count": null,
      "outputs": []
    },
    {
      "cell_type": "code",
      "source": [
        "user_encoder = LabelEncoder()\n",
        "df['user_id_encoded'] = user_encoder.fit_transform(df['user_id'])\n",
        "\n",
        "df['hour'] = df['timestamp'].dt.hour\n",
        "df['dayofweek'] = df['timestamp'].dt.dayofweek\n",
        "\n",
        "\n",
        "df['track_name'] = df['track_name'].fillna('')\n",
        "tfidf = TfidfVectorizer(max_features=100)\n",
        "track_tfidf = tfidf.fit_transform(df['track_name'])"
      ],
      "metadata": {
        "id": "sKfdMJzIkrlA"
      },
      "execution_count": null,
      "outputs": []
    },
    {
      "cell_type": "code",
      "source": [
        "from sklearn.feature_extraction.text import TfidfVectorizer\n",
        "tfidf = TfidfVectorizer(max_features=100)\n",
        "track_tfidf = tfidf.fit_transform(df['track_name'])\n",
        "\n",
        "import numpy as np\n",
        "from scipy import sparse\n",
        "from scipy.sparse import hstack\n",
        "\n",
        "numerical_features = df[['user_id_encoded', 'hour', 'dayofweek']].values\n",
        "numerical_sparse = sparse.csr_matrix(numerical_features)\n",
        "\n",
        "X = hstack([numerical_sparse, track_tfidf])\n",
        "y = df['replayed_within_30_days'].values\n",
        "\n",
        "from sklearn.model_selection import train_test_split\n",
        "X_train, X_test, y_train, y_test = train_test_split(X, y, test_size=0.2, random_state=42)\n",
        "\n",
        "print(\"✅ Feature engineering done. Data ready for model training.\")\n",
        "print(\"Train shape:\", X_train.shape)\n"
      ],
      "metadata": {
        "colab": {
          "base_uri": "https://localhost:8080/"
        },
        "id": "AdJpUgwDtsam",
        "outputId": "4c9d30d4-01a7-462d-bb95-90de936b44a1"
      },
      "execution_count": null,
      "outputs": [
        {
          "output_type": "stream",
          "name": "stdout",
          "text": [
            "✅ Feature engineering done. Data ready for model training.\n",
            "Train shape: (10382661, 103)\n"
          ]
        }
      ]
    },
    {
      "cell_type": "code",
      "source": [
        "\n",
        "df['user_hour'] = df['user_id_encoded'] * 100 + df['hour']\n",
        "df['user_dayofweek'] = df['user_id_encoded'] * 10 + df['dayofweek']\n",
        "\n",
        "numerical_features = df[['user_id_encoded', 'hour', 'dayofweek', 'user_hour', 'user_dayofweek']].values\n",
        "numerical_sparse = sparse.csr_matrix(numerical_features)\n",
        "\n",
        "X = hstack([numerical_sparse, track_tfidf])\n",
        "y = df['replayed_within_30_days'].values\n",
        "\n",
        "X_train, X_test, y_train, y_test = train_test_split(X, y, test_size=0.2, random_state=42)\n"
      ],
      "metadata": {
        "id": "uMSCYXC-y5xL"
      },
      "execution_count": null,
      "outputs": []
    },
    {
      "cell_type": "code",
      "source": [
        "print(\"✅ Feature engineering done. Data ready for model training.\")\n",
        "print(\"Train shape:\", X_train.shape)"
      ],
      "metadata": {
        "colab": {
          "base_uri": "https://localhost:8080/"
        },
        "id": "ZhMBgTJay-VJ",
        "outputId": "da63ced8-aa4d-4d8f-f982-d0ce496899d8"
      },
      "execution_count": null,
      "outputs": [
        {
          "output_type": "stream",
          "name": "stdout",
          "text": [
            "✅ Feature engineering done. Data ready for model training.\n",
            "Train shape: (10382661, 105)\n"
          ]
        }
      ]
    },
    {
      "cell_type": "code",
      "source": [
        "!pip install lightgbm -q\n",
        "\n",
        "import lightgbm as lgb\n",
        "from sklearn.metrics import accuracy_score, classification_report"
      ],
      "metadata": {
        "id": "s89ITxE0vY84"
      },
      "execution_count": null,
      "outputs": []
    },
    {
      "cell_type": "code",
      "source": [
        "!pip install --upgrade lightgbm"
      ],
      "metadata": {
        "colab": {
          "base_uri": "https://localhost:8080/"
        },
        "id": "LU_5pK0-5Ba2",
        "outputId": "645f1785-1e49-41d1-a018-bd6b58ee0be6"
      },
      "execution_count": null,
      "outputs": [
        {
          "output_type": "stream",
          "name": "stdout",
          "text": [
            "Requirement already satisfied: lightgbm in /usr/local/lib/python3.11/dist-packages (4.5.0)\n",
            "Collecting lightgbm\n",
            "  Downloading lightgbm-4.6.0-py3-none-manylinux_2_28_x86_64.whl.metadata (17 kB)\n",
            "Requirement already satisfied: numpy>=1.17.0 in /usr/local/lib/python3.11/dist-packages (from lightgbm) (2.0.2)\n",
            "Requirement already satisfied: scipy in /usr/local/lib/python3.11/dist-packages (from lightgbm) (1.14.1)\n",
            "Downloading lightgbm-4.6.0-py3-none-manylinux_2_28_x86_64.whl (3.6 MB)\n",
            "\u001b[2K   \u001b[90m━━━━━━━━━━━━━━━━━━━━━━━━━━━━━━━━━━━━━━━━\u001b[0m \u001b[32m3.6/3.6 MB\u001b[0m \u001b[31m23.2 MB/s\u001b[0m eta \u001b[36m0:00:00\u001b[0m\n",
            "\u001b[?25hInstalling collected packages: lightgbm\n",
            "  Attempting uninstall: lightgbm\n",
            "    Found existing installation: lightgbm 4.5.0\n",
            "    Uninstalling lightgbm-4.5.0:\n",
            "      Successfully uninstalled lightgbm-4.5.0\n",
            "Successfully installed lightgbm-4.6.0\n"
          ]
        }
      ]
    },
    {
      "cell_type": "code",
      "source": [
        "from lightgbm import LGBMClassifier\n",
        "from sklearn.metrics import accuracy_score, classification_report\n",
        "\n",
        "model = LGBMClassifier(\n",
        "    objective='binary',\n",
        "    boosting_type='gbdt',\n",
        "    num_leaves=31,\n",
        "    learning_rate=0.1,\n",
        "    feature_fraction=0.9,\n",
        "    bagging_fraction=0.8,\n",
        "    bagging_freq=5,\n",
        "    max_depth=-1\n",
        ")\n",
        "\n",
        "\n",
        "print(\"🚀 Starting model training...\")\n",
        "model.fit(\n",
        "    X_train, y_train,\n",
        "    eval_set=[(X_test, y_test)]\n",
        ")\n",
        "\n",
        "y_pred = model.predict(X_test)\n",
        "accuracy = accuracy_score(y_test, y_pred)\n",
        "\n",
        "print(f\"✅ Model Accuracy: {accuracy:.4f}\")\n",
        "print(\"Classification Report:\")\n",
        "print(classification_report(y_test, y_pred))\n"
      ],
      "metadata": {
        "colab": {
          "base_uri": "https://localhost:8080/"
        },
        "id": "5hUUuw13pVP2",
        "outputId": "740802ca-1232-43c4-f8be-2d518af40388"
      },
      "execution_count": null,
      "outputs": [
        {
          "output_type": "stream",
          "name": "stdout",
          "text": [
            "🚀 Starting model training...\n"
          ]
        },
        {
          "output_type": "stream",
          "name": "stderr",
          "text": [
            "/usr/local/lib/python3.11/dist-packages/sklearn/utils/deprecation.py:151: FutureWarning: 'force_all_finite' was renamed to 'ensure_all_finite' in 1.6 and will be removed in 1.8.\n",
            "  warnings.warn(\n"
          ]
        },
        {
          "output_type": "stream",
          "name": "stdout",
          "text": [
            "[LightGBM] [Warning] feature_fraction is set=0.9, colsample_bytree=1.0 will be ignored. Current value: feature_fraction=0.9\n",
            "[LightGBM] [Warning] bagging_fraction is set=0.8, subsample=1.0 will be ignored. Current value: bagging_fraction=0.8\n",
            "[LightGBM] [Warning] bagging_freq is set=5, subsample_freq=0 will be ignored. Current value: bagging_freq=5\n",
            "[LightGBM] [Warning] feature_fraction is set=0.9, colsample_bytree=1.0 will be ignored. Current value: feature_fraction=0.9\n",
            "[LightGBM] [Warning] bagging_fraction is set=0.8, subsample=1.0 will be ignored. Current value: bagging_fraction=0.8\n",
            "[LightGBM] [Warning] bagging_freq is set=5, subsample_freq=0 will be ignored. Current value: bagging_freq=5\n",
            "[LightGBM] [Info] Number of positive: 7436164, number of negative: 2946497\n",
            "[LightGBM] [Info] Auto-choosing row-wise multi-threading, the overhead of testing was 8.043262 seconds.\n",
            "You can set `force_row_wise=true` to remove the overhead.\n",
            "And if memory is not enough, you can set `force_col_wise=true`.\n",
            "[LightGBM] [Info] Total Bins 16717\n",
            "[LightGBM] [Info] Number of data points in the train set: 10382661, number of used features: 105\n",
            "[LightGBM] [Warning] feature_fraction is set=0.9, colsample_bytree=1.0 will be ignored. Current value: feature_fraction=0.9\n",
            "[LightGBM] [Warning] bagging_fraction is set=0.8, subsample=1.0 will be ignored. Current value: bagging_fraction=0.8\n",
            "[LightGBM] [Warning] bagging_freq is set=5, subsample_freq=0 will be ignored. Current value: bagging_freq=5\n",
            "[LightGBM] [Info] [binary:BoostFromScore]: pavg=0.716210 -> initscore=0.925738\n",
            "[LightGBM] [Info] Start training from score 0.925738\n"
          ]
        },
        {
          "output_type": "stream",
          "name": "stderr",
          "text": [
            "/usr/local/lib/python3.11/dist-packages/sklearn/utils/deprecation.py:151: FutureWarning: 'force_all_finite' was renamed to 'ensure_all_finite' in 1.6 and will be removed in 1.8.\n",
            "  warnings.warn(\n"
          ]
        },
        {
          "output_type": "stream",
          "name": "stdout",
          "text": [
            "[LightGBM] [Warning] feature_fraction is set=0.9, colsample_bytree=1.0 will be ignored. Current value: feature_fraction=0.9\n",
            "[LightGBM] [Warning] bagging_fraction is set=0.8, subsample=1.0 will be ignored. Current value: bagging_fraction=0.8\n",
            "[LightGBM] [Warning] bagging_freq is set=5, subsample_freq=0 will be ignored. Current value: bagging_freq=5\n",
            "✅ Model Accuracy: 0.7276\n",
            "Classification Report:\n",
            "              precision    recall  f1-score   support\n",
            "\n",
            "           0       0.68      0.08      0.14    737590\n",
            "           1       0.73      0.99      0.84   1858076\n",
            "\n",
            "    accuracy                           0.73   2595666\n",
            "   macro avg       0.70      0.53      0.49   2595666\n",
            "weighted avg       0.72      0.73      0.64   2595666\n",
            "\n"
          ]
        }
      ]
    },
    {
      "cell_type": "code",
      "source": [
        "from sklearn.metrics import confusion_matrix\n",
        "import seaborn as sns\n",
        "import matplotlib.pyplot as plt\n",
        "\n",
        "\n",
        "cm = confusion_matrix(y_test, y_pred)\n",
        "\n",
        "plt.figure(figsize=(6,4))\n",
        "sns.heatmap(cm, annot=True, fmt=\"d\", cmap=\"Blues\")\n",
        "plt.xlabel('Predicted Label')\n",
        "plt.ylabel('True Label')\n",
        "plt.title('Confusion Matrix')\n",
        "plt.show()\n"
      ],
      "metadata": {
        "colab": {
          "base_uri": "https://localhost:8080/",
          "height": 410
        },
        "id": "4sjLAwpDwYmk",
        "outputId": "b3efa9a7-bef4-480c-f4e7-ae8025cc75bd"
      },
      "execution_count": null,
      "outputs": [
        {
          "output_type": "display_data",
          "data": {
            "text/plain": [
              "<Figure size 600x400 with 2 Axes>"
            ],
            "image/png": "[encoded data removed]"
          },
          "metadata": {}
        }
      ]
    },
    {
      "cell_type": "code",
      "source": [
        "random_user = df['user_id'].sample(1).values[0]\n",
        "print(f\"🎯 Randomly selected user: {random_user}\")\n"
      ],
      "metadata": {
        "colab": {
          "base_uri": "https://localhost:8080/"
        },
        "id": "B5qKMAA1wZf5",
        "outputId": "81fe5764-ac8e-4c74-be82-af6d578b6157"
      },
      "execution_count": null,
      "outputs": [
        {
          "output_type": "stream",
          "name": "stdout",
          "text": [
            "🎯 Randomly selected user: user_000432\n"
          ]
        }
      ]
    },
    {
      "cell_type": "code",
      "source": [
        "user_data = df[df['user_id'] == random_user]\n",
        "print(f\"Total interactions found: {len(user_data)}\")\n"
      ],
      "metadata": {
        "colab": {
          "base_uri": "https://localhost:8080/"
        },
        "id": "VgxFxX6cwdKV",
        "outputId": "5b51b0e5-4ae2-45b8-8d20-1ff1b77ee045"
      },
      "execution_count": null,
      "outputs": [
        {
          "output_type": "stream",
          "name": "stdout",
          "text": [
            "Total interactions found: 10207\n"
          ]
        }
      ]
    },
    {
      "cell_type": "code",
      "source": [
        "feature_names = ['user_id_encoded', 'hour', 'dayofweek', 'user_hour', 'user_dayofweek']\n",
        "\n",
        "\n",
        "valid_user_ids = df['user_id'].unique()\n",
        "\n",
        "import random\n",
        "user_id = random.choice(valid_user_ids)\n",
        "print(f\"🎯 Using user_id: {user_id}\")\n",
        "\n",
        "user_data = df[df['user_id'] == user_id]\n",
        "\n",
        "while user_data.empty:\n",
        "  user_id = random.choice(valid_user_ids)\n",
        "  user_data = df[df['user_id'] == user_id]\n",
        "  print(f\"🎯 Re-sampled user_id: {user_id} due to empty data\")\n",
        "\n",
        "\n",
        "user_features = user_data[feature_names]\n",
        "\n",
        "import scipy.sparse as sp\n",
        "user_features_num = user_features.values\n",
        "user_features_num_sparse = sp.csr_matrix(user_features_num)\n",
        "\n",
        "user_features_text = tfidf.transform(user_data['track_name'])\n",
        "\n",
        "user_features_final = sp.hstack([user_features_num_sparse, user_features_text])\n",
        "\n",
        "user_predictions = model.predict(user_features_final)\n",
        "\n",
        "\n",
        "user_data['predicted_repeat'] = user_predictions\n",
        "\n",
        "recommended_songs = user_data[user_data['predicted_repeat'] == 1]['track_name'].unique()\n",
        "\n",
        "print(\"🎵 Recommended Songs:\")\n",
        "print(recommended_songs)"
      ],
      "metadata": {
        "colab": {
          "base_uri": "https://localhost:8080/"
        },
        "id": "UWBTaLsXwfUI",
        "outputId": "fb515772-fe38-4738-ea68-e118030f1cad"
      },
      "execution_count": null,
      "outputs": [
        {
          "output_type": "stream",
          "name": "stdout",
          "text": [
            "🎯 Using user_id: user_000693\n",
            "[LightGBM] [Warning] feature_fraction is set=0.9, colsample_bytree=1.0 will be ignored. Current value: feature_fraction=0.9\n",
            "[LightGBM] [Warning] bagging_fraction is set=0.8, subsample=1.0 will be ignored. Current value: bagging_fraction=0.8\n",
            "[LightGBM] [Warning] bagging_freq is set=5, subsample_freq=0 will be ignored. Current value: bagging_freq=5\n",
            "🎵 Recommended Songs:\n",
            "['Painter In Your Pocket' \"Push The Eagle'S Stomach\" 'Travel Is Dangerous'\n",
            " 'A Dangerous Woman Up To A Point'\n",
            " 'Concerning The Ufo Sighting Near Highland, Illinois'\n",
            " 'Good Lovin Outside' 'Sweet Jane' 'Young Alumni' 'Mr. Ambulance Driver'\n",
            " 'School Of The Flower' 'Direct To Helmet' 'Fortress' 'Specialist'\n",
            " \"I'M Waking Up To Us\" 'Parade Of Punk Rock T-Shirts' 'Call Me Home'\n",
            " 'Shadows' 'Surf Rider' 'The Pull' 'Mellow Yellow' 'Dagger' 'Funfair'\n",
            " \"Let'S Not Wrestle Mt. Heart Attack\" 'Panic' 'Skin Tension' 'Cup Of Tea'\n",
            " 'East Hastings' \"Moses? I Amn'T\" 'Sunworshipper' \"Buggin'\"\n",
            " 'The Air In The Morning' 'Dark Center Of The Universe'\n",
            " \"Doin' The Cockroach\" 'Today I Was An Evil One' \"Jah Didn'T Kill Johnny\"\n",
            " 'Electric' 'Tracy' 'Tomato Synthesizer'\n",
            " 'God Takes Care Of The Little Things' 'Gunz Yo' \"Surfin' Bird\"\n",
            " \"The Sound Of Failure / It'S Dark... Is It Always This Dark??\"\n",
            " 'Two Sails On A Sound' 'College' 'Hold You, Drum'\n",
            " 'The Blankets Were The Stairs' 'Shock City' 'European Oils'\n",
            " \"It'S All Blooming Now Mt. Heart Attack\" 'I Love Creedence' 'Manitoba'\n",
            " 'Trust Vs. Mistrust' 'Sleeping With A Gun Under My Pillow' 'Super Are'\n",
            " 'Brazil' 'Strange Ways' 'Good Day Sunshine' 'Auto Rock'\n",
            " \"Don'T They Have Payphones Wherever You Were Last Night\"\n",
            " 'The Strange Famous Mullet Remover' 'Jumping Fences' 'Sea Lion' 'Karte'\n",
            " 'F.C.P.S.I.T.S.G.E.P.G.E.P.G.E.P.' 'Can You Come Down With Us?'\n",
            " \"Looters' Follies\" 'Soaked' 'Radar Maker' 'Mon Lion'\n",
            " 'Voice Mail Bomb Threat' 'Escape Artist' 'Song About An Angel'\n",
            " 'Race For The Prize' 'Leaf House' 'Mizukagami' \"Haven'T Got A Clue\"\n",
            " 'So Kind, Stacy' 'Mogwai Fear Satan' 'Rockets Fall On Rocket Falls'\n",
            " 'Sleet' \"Teeth Like God'S Shoeshine\" 'Sweet Road' 'Cowbell'\n",
            " 'Sick Priest Learns To Last Forever' 'Nosferatu Man' 'Unrecorded'\n",
            " 'Drop The Pressure' 'Lalena' 'No Inside, No Out' 'Leivonen'\n",
            " \"I'M Not Synthesizer (Ypy?)\" 'Saint Cloud' 'The Softest Voice'\n",
            " 'Some Girls Are Bigger Than Others' 'Eviction Notice' 'Where?' 'Birdland'\n",
            " 'Hand In Glove' 'Reuters' 'Seeing Other People'\n",
            " 'Tiny Cities Made Of Ashes' 'Brown Boxes' 'To Hold You, Drum'\n",
            " 'Inside Of The Pocket' 'Swaying Curtain In The Window' 'Introduction'\n",
            " 'Catch The Wind' 'Simple Things' 'I Love My Car'\n",
            " 'Decatur, Or, Round Of Applause For Your Step Mother!'\n",
            " \"Goin' Against Your Mind\" 'Metrion' 'Nice One' 'Washer'\n",
            " 'Another Day Full Of Dread' 'Kids On Holiday' 'Static'\n",
            " 'Cold White Christmas' 'Ex Lion Tamer' 'Grounds For Divorce'\n",
            " 'I Know No One' 'Black Mission Goggles' 'Define A Transparent Dream'\n",
            " 'Organs' 'Omaha' 'Death To Everyone' 'Love Connection' 'Vista'\n",
            " 'In Between' 'Warm Panda Cola' 'The Glow' \"We Just Won'T Be Defeated\"\n",
            " 'The Wrong Coat For You Mt. Heart Attack' \"Jakov'S Suite\"\n",
            " 'Raining In Darling' 'Ice' 'Young Einstein On The Beach' 'Kiiro'\n",
            " 'Get Big' '21St Century Schizoid Man (Including Mirrors)'\n",
            " 'Walking Over You' 'There Is A Mountain' 'Round' 'Black Sweatshirt'\n",
            " 'Like Herod' 'Stop Coming To My House'\n",
            " 'Third Eye Of The Whole World (Long Version)' 'Duanetastic' 'Grendel'\n",
            " \"I'M Glad I Hitched My Apple Wagon To Your Star\"\n",
            " 'Spirit Ditties Of No Tone' 'Head Held High'\n",
            " 'Memories Of Jacqueline 1906' 'Native Belle' 'La Rapet' 'Mr. Pants'\n",
            " 'You Can See' 'The Buzz Kill' 'Pitchers Of Silence' 'How?'\n",
            " 'Vein Of Stars' 'Lives' 'Pink' 'Product Placement' 'Young Shields'\n",
            " 'Light Chair' 'No Flashlight' \"O'Malley, Former Underdog\"\n",
            " 'The Wizard Turns On... Explained' 'Universe' 'Yukinohaka'\n",
            " 'Woman On The Screen' 'Crack The Whip' 'Souvlaki Space Station'\n",
            " 'An Eagle In Your Mind' 'Song For The New Breed' 'Alone Down There'\n",
            " 'The Gleam' 'Loupe' 'The Opera House' 'Cinnamon And Lightning' 'Grass'\n",
            " 'Soul To Squeeze' 'Super You' 'Storm' 'Odyssey'\n",
            " 'Drum And The Uncomfortable Can'\n",
            " 'Moonchild (Including The Dream And The Illusion)' 'Three Girl Rhumba'\n",
            " 'Modern World' 'Wild Packs Of Family Dogs' 'Too Soon' 'The Zephyr Song'\n",
            " \"It'5\" 'Switch' 'Clover' 'Lowdown' 'Mountains' 'Holly Hobby (Version)'\n",
            " 'Bridle' 'Whaddit I Done' 'Wrong Time Capsule' '3000 Flowers'\n",
            " 'Lounge (Closing Time)' \"I Don'T Wanna Die\" 'The Lord God Bird'\n",
            " 'The Moan' 'Chicago' 'Antennas To Heaven' 'Karl Blau'\n",
            " 'The Well-Meaning Professor' 'Panther Dash' 'Fancy Claps' 'Jacksonville'\n",
            " 'Hazey Jane Ii' 'Non Photo-Blue' 'Hopeless' 'Climb Trees'\n",
            " 'With Portfolio' 'Korock' 'Polar Opposites'\n",
            " 'A Cheery Wave From Stranded Youngsters' 'Marking Time'\n",
            " 'Before You Were Born' 'The Other Side Of Mt. Heart Attack' 'Team Handed'\n",
            " 'Killing All The Flies' 'Dance Monkey' 'Oh Mandy'\n",
            " 'Music For A Found Harmonium' 'Way Out' 'Inherited Scars' 'Reena'\n",
            " \"Kill Ya' Momz\" 'Japan Is An Island' 'Tearing Up The Oxygen'\n",
            " 'Ground Control' 'Broken Wings' 'An Accidental Memory'\n",
            " 'My Tiger My Heart' 'Queen Bitch' 'Muscle Cars'\n",
            " 'Now Dom Go Synthesizer Way (Why?)' 'The Sun' 'Action Synthesizer Hero'\n",
            " 'Midnight Bicycle Mystery' 'Tunneling Through The Guy'\n",
            " 'Convenient Parking' 'Missing You' 'Acid Food' 'Acid Police'\n",
            " 'Half A Person' 'No Growing (Exegesis)' 'Unmarked Grave' 'Super Good'\n",
            " 'My Name Is Strange' 'Earth People' 'Bankrupt On Selling' 'Country Rain'\n",
            " 'Watercolours Into The Ocean' 'Sun Vs Moon' 'The Color Of The Fire'\n",
            " 'Bonfire On The Field' 'Hey! Mr. Sky' 'Epistle To Dippy'\n",
            " 'Lantern On The Water' '(Something)' 'Cowboy Dan'\n",
            " 'Kids Will Be Skeletons' 'Birdy' 'The W.A.N.D.' 'Your Blood'\n",
            " 'Banshee Beat' 'Alison' \"Livin' Like A Bug Ain'T Easy\" 'Tropical Bells'\n",
            " 'Anarchy In The Ukk' 'California' 'I Talk To The Wind'\n",
            " 'Good Morning Kaptain' 'Seven' 'Dear Sons And Daughters Of Hungry Ghosts'\n",
            " 'Slippi' 'Free Radicals' 'Fur Soft As Fur' 'Madeleine-Mary'\n",
            " 'A Visit From Drum' 'Figaro' 'Season Of The Witch' 'Breadcrumb Trail'\n",
            " 'Epitaph (Including March For No Reason And Tomorrow And Tomorrow)'\n",
            " 'Lisboa' 'Smoke 7' 'Bees' 'I Hold Nothing' 'Do Not Fire! (Instrumental)'\n",
            " '5 A.M. (Tears Below The Freezing Point)' 'We Built Another World'\n",
            " 'Frosted Ambassador' 'Who Loves The Sun' 'Minha Menina'\n",
            " 'Between Your Ear And The Other Ear' 'Late' 'Bobby Malone Moves Home'\n",
            " 'The Breeze' 'Scattered Pearls' 'Shit Luck' 'Don, Aman'\n",
            " 'Towards A Tranquil Marsh' 'In Circles' \"Goin' On\" 'Winters Love'\n",
            " 'Wedding' 'Van Helsing Boombox' 'Hunted By A Freak' 'Hurdy Gurdy Man'\n",
            " 'Gravity Rides Everything' \"Surgeon'S Girl\" 'Stop Singing' '40 Days'\n",
            " 'Black' 'Mouth Wooed Her' 'Lie Detector Test' 'Crazy Eights' 'Baby'\n",
            " \"Frenchy, I'M Faking\"\n",
            " 'A Short Reprise For Mary Todd, Who Went Insane, But For Very Good Reasons'\n",
            " 'The Dead Flag Blues' 'Waterfalls (By Thanksgiving)' 'Glasgow Mega-Snake'\n",
            " 'Perfect Disguise' 'Daffy Duck' 'Visiting Friends' 'Feathers'\n",
            " 'Loud And Mighty' 'Mama Brain' 'Hot Bat' 'The Same Ocean' '[Untitled]'\n",
            " 'Your Mind And We Belong Together (Tracking Sessions Highlights)'\n",
            " 'Eeedoms' '48' 'Scream Team' 'Casimir Pulaski Day' 'Silver Rocket'\n",
            " 'Personal Journalist' 'The Intimacy Of The World With The World'\n",
            " 'Trailer Trash' 'Drop' 'Be Gentle With Me' 'Super Shine' 'We Tigers'\n",
            " 'Twin Cinema' 'Message Sent' 'R U Still In 2 It' 'Chatterboxes'\n",
            " 'Machine Gun' 'Cool It Down' 'Providence' 'John Wayne Gacy, Jr.'\n",
            " 'Genius And The Thieves' 'Tonebank Jungle' 'Hey Light' 'Cheated Hearts'\n",
            " 'Shine A Light' 'The Louder Roared The Sea' 'In A Sense' 'Mt. Eerie'\n",
            " 'Start To Move' 'Paparazzi' \"We Don'T Think, We Know\"\n",
            " 'Come On! Feel The Illinoise!!' 'Mist' 'Out Of Gas' 'Wishbone'\n",
            " 'Solar System' 'Afk' 'The Yellow Ones' 'The Ravager' 'German Engineering'\n",
            " 'Some Velvet Morning' 'Wildlife Analysis'\n",
            " \"Eighth Cognition / All You'Ve Left\" 'Nashville Parthenon'\n",
            " 'Uncontrollable Urge' 'My Machine' 'Nepenthe' 'I See A Darkness'\n",
            " 'The Iliad' 'Twin Killers' 'Pheurton Skeurto' 'Dead Souls'\n",
            " \"Happy Mother'S Day\" 'Sleep' 'J.F.P.' 'Turn Into Something'\n",
            " 'Hugging My Grudge' 'Jennifer Juniper' 'Did I Tell You'\n",
            " 'Starlight Reflecting On The Surface Of The River' 'In Houston'\n",
            " 'I Came As A Rat' 'The Stars Are Projectors' 'Granular Haze' 'Bewitched'\n",
            " 'An Accidental Memory In The Case Of Death' 'Money Folder'\n",
            " 'No One Will Remember You Tonight'\n",
            " 'The Predatory Wasp Of The Palisades Is Out To Get Us!'\n",
            " 'Panis Et Circenses' 'Katrien' 'Paper Thin Walls' 'Twins'\n",
            " 'Here She Comes' 'Valley Of The Dolls' 'Loch Raven' 'Conventional Wisdom'\n",
            " 'Perfect Neglect In A Field Of Statues' 'Typewriter'\n",
            " 'Drum Gets A Glimpse' 'The Universe Is Shown' 'Yeah Yeah Yeah Song'\n",
            " 'New Age' 'Flesh Canoe' 'Rubies' 'In Case We Die, Parts 1-4'\n",
            " 'This Red Book' 'A Kite Of Night' 'Ice Dogs' 'Sometimes'\n",
            " 'Wear Your Love Like Heaven' 'Syracuse' \"Don'T Say You Don'T\"\n",
            " 'Huddle Formation' 'For Dinner...' 'Colours' 'Chocolate Synthesizer'\n",
            " 'The Stars Of Track And Field' 'Engwish Bwudd' \"Don'T Kill Children\"\n",
            " 'Franz Kafka! Intro' 'Buckle' 'Beside A Well' 'Crack Pipes'\n",
            " 'My Cosmic Autumn Rebellion' 'Do The Whirlwind' 'Bloods On Fire'\n",
            " 'Agony In Her Body' 'Tempo No Tempo' 'Bbf3' 'Ever Rotating Sky'\n",
            " 'Running Thoughts' 'Synthesizer Guide Book On Fire' 'Paper Cuts'\n",
            " 'People, The Vehicles' 'Jesus Christ Was An Only Child'\n",
            " 'It Fit When I Was A Kid' 'Thicker Than A Smokey'\n",
            " 'At The Chime Of A City Clock' 'Good Morning, Captain' 'Neverevereverdid'\n",
            " 'Rock And Roll' 'Vivid Cheek Love Song' 'Spider Cider' 'Blackout'\n",
            " 'Rrrrrrright' 'Curls' 'Be Quiet Mt. Heart Attack!' \"It'S So Obvious\"\n",
            " 'Protein And Poison' 'Melon Yellow' \"Don'T Put Marbles In Your Nose\"\n",
            " 'Psychiatric Explorations Of The Fetus With Needles'\n",
            " 'Yes! I Am A Long Way From Home' 'When The Sun Hits' 'Bottle Rocket'\n",
            " 'Green Typewriters' 'Turn Table Boredoms' 'The Dress Looks Nice On You'\n",
            " 'Mushina' 'Amayadori' 'A Minor Place' 'Words For Two' 'Publish My Love'\n",
            " 'Super Are You' 'Altogether'\n",
            " 'All The Trees Of The Field Will Clap Their Hands' 'Smoke And Mirrors'\n",
            " 'Spy Vs. Spy' 'Tiny Paintings' 'So. Central Rain' 'Need To Shout' 'Sing'\n",
            " 'Procession Of Cherry Blossom Spirits' 'Courtyard' 'Different'\n",
            " 'Telephasic Workshop' \"Priest'S Knees\" 'Did You See The Words'\n",
            " 'Folk Death 95' 'Knockturne' '3X0' 'Indian Summer' 'Execution'\n",
            " 'Banana Ghost' 'Nomadic Revery (All Around)' 'Pompeii Am Götterdämmerung'\n",
            " 'Calm' 'Super Coming' 'You, Drum' 'B For Boredoms'\n",
            " 'The Battle Of The Boy Least Likely To' 'Jamboree' 'Just Drums'\n",
            " 'Rockaway' '10 Gallon Ascots' \"You Are A Runner And I Am My Father'S Son\"\n",
            " 'Infant Dressing Table' 'Runaways' 'Aqua'\n",
            " 'It Overtakes Me/The Stars Are So Big... I Am So Small... Do I Stand A Chance?'\n",
            " 'I See Spiders When I Close My Eyes' 'Ave Gengis Khan'\n",
            " 'Summer (Priority Version)' 'Louis Louis Rap' '47' '3Rd Planet'\n",
            " 'A Different City' 'Uoredoms' \"What'S In Store?\" 'Heart Cooks Brain'\n",
            " 'It Could Have Been A Brilliant Career' 'Super Going'\n",
            " \"In The Bat'S Mouth\" 'Ambiguity' 'Truckers Atlas' 'Home' 'Hangman'\n",
            " 'The Mop' 'Maybe You Can Owe Me' 'Such A Color' 'Who Could Win A Rabbit'\n",
            " 'Spirits' 'There Is A Light That Never Goes Out' 'Ask'\n",
            " 'Rendezvous: Potrero Hill' 'Crumble' 'Disorder' 'The Purple Bottle'\n",
            " 'Insistor' 'Long Distance Drunk' 'The Wand' '2 Morro Morro Land'\n",
            " 'Slow Down Ghandi' \"New Year'S Kiss\" 'After Me The Deluge'\n",
            " 'Sunshine Superman' 'Monsters' 'The Cold Part' 'Siriustar']\n"
          ]
        },
        {
          "output_type": "stream",
          "name": "stderr",
          "text": [
            "/usr/local/lib/python3.11/dist-packages/sklearn/utils/deprecation.py:151: FutureWarning: 'force_all_finite' was renamed to 'ensure_all_finite' in 1.6 and will be removed in 1.8.\n",
            "  warnings.warn(\n",
            "<ipython-input-34-0fa5fe440883>:43: SettingWithCopyWarning: \n",
            "A value is trying to be set on a copy of a slice from a DataFrame.\n",
            "Try using .loc[row_indexer,col_indexer] = value instead\n",
            "\n",
            "See the caveats in the documentation: https://pandas.pydata.org/pandas-docs/stable/user_guide/indexing.html#returning-a-view-versus-a-copy\n",
            "  user_data['predicted_repeat'] = user_predictions\n"
          ]
        }
      ]
    },
    {
      "cell_type": "code",
      "source": [
        "import joblib\n",
        "import json\n",
        "import os\n",
        "\n",
        "os.makedirs(\"/content/drive/MyDrive/models\", exist_ok=True)\n",
        "\n",
        "joblib.dump(model, \"/content/drive/MyDrive/models/lightgbm_recommendation_model.pkl\")\n",
        "\n",
        "joblib.dump(tfidf, \"/content/drive/MyDrive/models/tfidf_vectorizer.pkl\")\n",
        "\n",
        "joblib.dump(user_encoder, \"/content/drive/MyDrive/models/user_encoder.pkl\")\n",
        "\n",
        "with open(\"/content/drive/MyDrive/models/feature_names.json\", \"w\") as f:\n",
        "    json.dump(feature_names, f)\n",
        "\n",
        "print(\"✅ All models and preprocessors saved successfully!\")\n"
      ],
      "metadata": {
        "colab": {
          "base_uri": "https://localhost:8080/"
        },
        "id": "-8n0qoLwQjuB",
        "outputId": "0fb5195b-e123-43c3-c9e4-c0573d639c6b"
      },
      "execution_count": null,
      "outputs": [
        {
          "output_type": "stream",
          "name": "stdout",
          "text": [
            "✅ All models and preprocessors saved successfully!\n"
          ]
        }
      ]
    }
  ]
}